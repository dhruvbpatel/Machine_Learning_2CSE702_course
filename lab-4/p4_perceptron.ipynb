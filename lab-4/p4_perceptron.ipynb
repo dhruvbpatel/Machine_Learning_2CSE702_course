{
 "cells": [
  {
   "cell_type": "markdown",
   "metadata": {},
   "source": [
    "## Perceptron From Scratch\n",
    "\n",
    "###### ML practical 4 \n",
    "###### Dhruv Patel 17162121014"
   ]
  },
  {
   "cell_type": "code",
   "execution_count": 389,
   "metadata": {},
   "outputs": [],
   "source": [
    "import numpy as np"
   ]
  },
  {
   "cell_type": "code",
   "execution_count": 390,
   "metadata": {},
   "outputs": [],
   "source": [
    "def sigmoid(x):\n",
    "    return 1/(1+np.exp(-x))"
   ]
  },
  {
   "cell_type": "code",
   "execution_count": 391,
   "metadata": {},
   "outputs": [],
   "source": [
    "def sigmoid_derivative(x):\n",
    "    return x*(1-x)"
   ]
  },
  {
   "cell_type": "code",
   "execution_count": 392,
   "metadata": {},
   "outputs": [],
   "source": [
    "# set the hyper-parameters\n",
    "lr = 0.1\n",
    "epochs = 10000\n",
    "inputNeurons=2\n",
    "hiddenNeurons = 2\n",
    "outputNeurons = 1"
   ]
  },
  {
   "cell_type": "code",
   "execution_count": 393,
   "metadata": {},
   "outputs": [
    {
     "name": "stdout",
     "output_type": "stream",
     "text": [
      "Hidden Layer Weights:\n",
      "[[5.76633265 3.46307802]\n",
      " [6.11418605 3.51654622]] \n",
      "\n",
      " Hidden Layer Bias: [[-2.40002401 -5.31892491]] \n"
     ]
    }
   ],
   "source": [
    "print(\"Hidden Layer Weights:\\n{} \\n\\n Hidden Layer Bias: {} \".format(hidden_weights,hidden_bias))"
   ]
  },
  {
   "cell_type": "code",
   "execution_count": 394,
   "metadata": {},
   "outputs": [],
   "source": [
    "def train(inputs,expected_output):\n",
    "    \n",
    "    hidden_weights = np.random.uniform(size =(inputNeurons,hiddenNeurons))\n",
    "    hidden_bias = np.random.uniform(size=(1,hiddenNeurons))\n",
    "\n",
    "    output_weights = np.random.uniform(size =(hiddenNeurons,outputNeurons))\n",
    "    output_bias = np.random.uniform(size=(1,outputNeurons))\n",
    "    \n",
    "    for i in range(epochs):\n",
    "        #Forward Propagation\n",
    "        hidden_layer_activation = np.dot(inputs,hidden_weights)+hidden_bias\n",
    "        hidden_layer_output = sigmoid(hidden_layer_activation)\n",
    "\n",
    "        output_layer_activation = np.dot(hidden_layer_output,output_weights)+output_bias\n",
    "        predicted_output = sigmoid(output_layer_activation)\n",
    "\n",
    "        #Backpropagation\n",
    "        error = expected_output - predicted_output\n",
    "        d_predicted_output = error * sigmoid_derivative(predicted_output)\n",
    "\n",
    "        error_hidden_layer = d_predicted_output.dot(output_weights.T)\n",
    "        d_hidden_layer = error_hidden_layer * sigmoid_derivative(hidden_layer_output)\n",
    "\n",
    "        #Updating Weights and Biases\n",
    "        output_weights += hidden_layer_output.T.dot(d_predicted_output) * lr\n",
    "        output_bias += np.sum(d_predicted_output,axis=0,keepdims=True) * lr\n",
    "        hidden_weights += inputs.T.dot(d_hidden_layer) * lr\n",
    "        hidden_bias += np.sum(d_hidden_layer,axis=0,keepdims=True) * lr\n",
    "    return predicted_output,hidden_weights,hidden_bias,output_weights,output_bias"
   ]
  },
  {
   "cell_type": "code",
   "execution_count": 395,
   "metadata": {},
   "outputs": [],
   "source": [
    "def convert_binary(expected_output,preds):\n",
    "    count=1\n",
    "    for i in range(len(preds)):\n",
    "        if preds[i][0]>=0.5:\n",
    "            curr_binary =1\n",
    "        else:\n",
    "            curr_binary=0\n",
    "        print(\"For input {} Expected value was: {} , Predicted Value is: {}\".format(count,expected_output[i][0],curr_binary))\n",
    "        count+=1"
   ]
  },
  {
   "cell_type": "markdown",
   "metadata": {},
   "source": [
    "## AND Training"
   ]
  },
  {
   "cell_type": "code",
   "execution_count": 396,
   "metadata": {},
   "outputs": [],
   "source": [
    "inputs = np.array([[0,0],[0,1],[1,0],[1,1]])\n",
    "expected_output = np.array([[0],[0],[0],[1]])\n"
   ]
  },
  {
   "cell_type": "code",
   "execution_count": 397,
   "metadata": {},
   "outputs": [],
   "source": [
    "predicted_output,hidden_weights,hidden_bias,output_weights,output_bias=train(inputs,expected_output)"
   ]
  },
  {
   "cell_type": "code",
   "execution_count": 398,
   "metadata": {
    "scrolled": true
   },
   "outputs": [
    {
     "name": "stdout",
     "output_type": "stream",
     "text": [
      "For input 1 Expected value was: 0 , Predicted Value is: 0\n",
      "For input 2 Expected value was: 0 , Predicted Value is: 0\n",
      "For input 3 Expected value was: 0 , Predicted Value is: 0\n",
      "For input 4 Expected value was: 1 , Predicted Value is: 1\n"
     ]
    }
   ],
   "source": [
    "convert_binary(expected_output,predicted_output)"
   ]
  },
  {
   "cell_type": "code",
   "execution_count": 399,
   "metadata": {},
   "outputs": [
    {
     "data": {
      "text/plain": [
       "array([[0.01066041],\n",
       "       [0.03338145],\n",
       "       [0.03328653],\n",
       "       [0.95635451]])"
      ]
     },
     "execution_count": 399,
     "metadata": {},
     "output_type": "execute_result"
    }
   ],
   "source": [
    "predicted_output"
   ]
  },
  {
   "cell_type": "markdown",
   "metadata": {},
   "source": [
    "## OR Training"
   ]
  },
  {
   "cell_type": "code",
   "execution_count": 400,
   "metadata": {},
   "outputs": [],
   "source": [
    "inputs = np.array([[0,0],[0,1],[1,0],[1,1]])\n",
    "expected_output = np.array([[0],[1],[1],[1]])\n"
   ]
  },
  {
   "cell_type": "code",
   "execution_count": 401,
   "metadata": {},
   "outputs": [],
   "source": [
    "predicted_output,hidden_weights,hidden_bias,output_weights,output_bias=train(inputs,expected_output)"
   ]
  },
  {
   "cell_type": "code",
   "execution_count": 402,
   "metadata": {},
   "outputs": [
    {
     "name": "stdout",
     "output_type": "stream",
     "text": [
      "For input 1 Expected value was: 0 , Predicted Value is: 0\n",
      "For input 2 Expected value was: 1 , Predicted Value is: 1\n",
      "For input 3 Expected value was: 1 , Predicted Value is: 1\n",
      "For input 4 Expected value was: 1 , Predicted Value is: 1\n"
     ]
    }
   ],
   "source": [
    "convert_binary(expected_output,predicted_output)"
   ]
  },
  {
   "cell_type": "code",
   "execution_count": 403,
   "metadata": {},
   "outputs": [
    {
     "data": {
      "text/plain": [
       "array([[0.0439979 ],\n",
       "       [0.97508539],\n",
       "       [0.97591499],\n",
       "       [0.99387902]])"
      ]
     },
     "execution_count": 403,
     "metadata": {},
     "output_type": "execute_result"
    }
   ],
   "source": [
    "predicted_output"
   ]
  },
  {
   "cell_type": "code",
   "execution_count": 404,
   "metadata": {},
   "outputs": [
    {
     "data": {
      "text/plain": [
       "(array([[4.28331572, 2.27207049],\n",
       "        [4.36566853, 2.08828342]]),\n",
       " array([[-2.3043133, -1.2295798]]),\n",
       " array([[6.95126293],\n",
       "        [2.54207449]]),\n",
       " array([[-4.28478408]]))"
      ]
     },
     "execution_count": 404,
     "metadata": {},
     "output_type": "execute_result"
    }
   ],
   "source": [
    "hidden_weights,hidden_bias,output_weights,output_bias"
   ]
  },
  {
   "cell_type": "markdown",
   "metadata": {},
   "source": [
    "## For XNOR Training"
   ]
  },
  {
   "cell_type": "code",
   "execution_count": 405,
   "metadata": {},
   "outputs": [],
   "source": [
    "inputs = np.array([[0,0],[0,1],[1,0],[1,1]])\n",
    "expected_output = np.array([[1],[0],[0],[1]])\n"
   ]
  },
  {
   "cell_type": "code",
   "execution_count": 406,
   "metadata": {},
   "outputs": [],
   "source": [
    "predicted_output,hidden_weights,hidden_bias,output_weights,output_bias=train(inputs,expected_output)"
   ]
  },
  {
   "cell_type": "code",
   "execution_count": 407,
   "metadata": {},
   "outputs": [
    {
     "name": "stdout",
     "output_type": "stream",
     "text": [
      "For input 1 Expected value was: 1 , Predicted Value is: 1\n",
      "For input 2 Expected value was: 0 , Predicted Value is: 0\n",
      "For input 3 Expected value was: 0 , Predicted Value is: 0\n",
      "For input 4 Expected value was: 1 , Predicted Value is: 1\n"
     ]
    }
   ],
   "source": [
    "convert_binary(expected_output,predicted_output)"
   ]
  },
  {
   "cell_type": "code",
   "execution_count": 408,
   "metadata": {},
   "outputs": [
    {
     "data": {
      "text/plain": [
       "array([[0.92290395],\n",
       "       [0.08475205],\n",
       "       [0.08579315],\n",
       "       [0.93116725]])"
      ]
     },
     "execution_count": 408,
     "metadata": {},
     "output_type": "execute_result"
    }
   ],
   "source": [
    "predicted_output"
   ]
  },
  {
   "cell_type": "code",
   "execution_count": 409,
   "metadata": {},
   "outputs": [
    {
     "data": {
      "text/plain": [
       "(array([[ 5.76857211, -5.21953227],\n",
       "        [-5.59050278,  5.43698515]]),\n",
       " array([[2.86923459, 2.65685291]]),\n",
       " array([[5.9384129 ],\n",
       "        [5.98787295]]),\n",
       " array([[-8.73221023]]))"
      ]
     },
     "execution_count": 409,
     "metadata": {},
     "output_type": "execute_result"
    }
   ],
   "source": [
    "hidden_weights,hidden_bias,output_weights,output_bias"
   ]
  },
  {
   "cell_type": "code",
   "execution_count": null,
   "metadata": {},
   "outputs": [],
   "source": []
  }
 ],
 "metadata": {
  "kernelspec": {
   "display_name": "Python 3",
   "language": "python",
   "name": "python3"
  },
  "language_info": {
   "codemirror_mode": {
    "name": "ipython",
    "version": 3
   },
   "file_extension": ".py",
   "mimetype": "text/x-python",
   "name": "python",
   "nbconvert_exporter": "python",
   "pygments_lexer": "ipython3",
   "version": "3.7.7"
  }
 },
 "nbformat": 4,
 "nbformat_minor": 4
}
