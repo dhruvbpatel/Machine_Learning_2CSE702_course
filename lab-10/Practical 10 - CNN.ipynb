{
 "cells": [
  {
   "cell_type": "markdown",
   "metadata": {},
   "source": [
    "# Dhruv Patel\n",
    "# 17162121014\n",
    "\n",
    "# Practical 10 - CNN"
   ]
  },
  {
   "cell_type": "code",
   "execution_count": 2,
   "metadata": {},
   "outputs": [],
   "source": [
    "## here we will working with MNSIT dataset\n",
    "from keras.datasets import mnist\n",
    "from keras.utils.np_utils import to_categorical"
   ]
  },
  {
   "cell_type": "code",
   "execution_count": 6,
   "metadata": {},
   "outputs": [
    {
     "name": "stdout",
     "output_type": "stream",
     "text": [
      "Downloading data from https://storage.googleapis.com/tensorflow/tf-keras-datasets/mnist.npz\n",
      "11493376/11490434 [==============================] - 2s 0us/step\n"
     ]
    }
   ],
   "source": [
    "## load data\n",
    "\n",
    "(X_train,y_train),(X_test,y_test) = mnist.load_data()"
   ]
  },
  {
   "cell_type": "code",
   "execution_count": 7,
   "metadata": {},
   "outputs": [
    {
     "name": "stdout",
     "output_type": "stream",
     "text": [
      "(60000, 28, 28)\n",
      "(10000, 28, 28)\n"
     ]
    }
   ],
   "source": [
    "print(X_train.shape)  ## 60000 images of 28*28\n",
    "print(X_test.shape)   ## 10000 images of 28*28"
   ]
  },
  {
   "cell_type": "code",
   "execution_count": 8,
   "metadata": {},
   "outputs": [
    {
     "name": "stdout",
     "output_type": "stream",
     "text": [
      "(60000,)\n",
      "(10000,)\n"
     ]
    }
   ],
   "source": [
    "print(y_train.shape)\n",
    "print(y_test.shape)"
   ]
  },
  {
   "cell_type": "code",
   "execution_count": 9,
   "metadata": {},
   "outputs": [
    {
     "name": "stdout",
     "output_type": "stream",
     "text": [
      "[5 0 4 1 9 2 1 3 1 4]\n"
     ]
    }
   ],
   "source": [
    "print(y_train[:10])"
   ]
  },
  {
   "cell_type": "code",
   "execution_count": 11,
   "metadata": {},
   "outputs": [],
   "source": [
    "# type(y_train)"
   ]
  },
  {
   "cell_type": "code",
   "execution_count": 14,
   "metadata": {},
   "outputs": [],
   "source": [
    "X_train = X_train.reshape(60000,28,28,1)\n",
    "X_test  = X_test.reshape(10000,28,28,1)\n",
    "y_train=to_categorical(y_train)\n",
    "y_test=to_categorical(y_test)  "
   ]
  },
  {
   "cell_type": "code",
   "execution_count": 16,
   "metadata": {},
   "outputs": [
    {
     "data": {
      "text/plain": [
       "array([[0., 0., 0., ..., 0., 0., 0.],\n",
       "       [1., 0., 0., ..., 0., 0., 0.],\n",
       "       [0., 0., 0., ..., 0., 0., 0.],\n",
       "       ...,\n",
       "       [0., 0., 0., ..., 0., 0., 0.],\n",
       "       [0., 0., 0., ..., 0., 0., 0.],\n",
       "       [0., 0., 0., ..., 0., 1., 0.]], dtype=float32)"
      ]
     },
     "execution_count": 16,
     "metadata": {},
     "output_type": "execute_result"
    }
   ],
   "source": [
    "y_train ## converted into categorical , one hot encoded format"
   ]
  },
  {
   "cell_type": "code",
   "execution_count": 17,
   "metadata": {},
   "outputs": [],
   "source": [
    "## train our model"
   ]
  },
  {
   "cell_type": "code",
   "execution_count": 18,
   "metadata": {},
   "outputs": [],
   "source": [
    "from keras.models import Sequential\n",
    "from keras.layers import Flatten,Conv2D,Dense"
   ]
  },
  {
   "cell_type": "code",
   "execution_count": 20,
   "metadata": {},
   "outputs": [],
   "source": [
    "## build model\n",
    "\n",
    "model = Sequential()\n",
    "model.add(Conv2D(30,kernel_size=3,activation='relu',input_shape=(28,28,1)))\n",
    "model.add(Conv2D(15,kernel_size=3,activation='relu'))\n",
    "model.add(Flatten())\n",
    "model.add(Dense(10,activation=\"softmax\"))\n"
   ]
  },
  {
   "cell_type": "code",
   "execution_count": 21,
   "metadata": {},
   "outputs": [],
   "source": [
    "model.compile(optimizer = 'adam',loss='categorical_crossentropy',metrics=[\"accuracy\"])\n"
   ]
  },
  {
   "cell_type": "code",
   "execution_count": 22,
   "metadata": {},
   "outputs": [
    {
     "name": "stdout",
     "output_type": "stream",
     "text": [
      "Model: \"sequential\"\n",
      "_________________________________________________________________\n",
      "Layer (type)                 Output Shape              Param #   \n",
      "=================================================================\n",
      "conv2d (Conv2D)              (None, 26, 26, 30)        300       \n",
      "_________________________________________________________________\n",
      "conv2d_1 (Conv2D)            (None, 24, 24, 15)        4065      \n",
      "_________________________________________________________________\n",
      "flatten (Flatten)            (None, 8640)              0         \n",
      "_________________________________________________________________\n",
      "dense (Dense)                (None, 10)                86410     \n",
      "=================================================================\n",
      "Total params: 90,775\n",
      "Trainable params: 90,775\n",
      "Non-trainable params: 0\n",
      "_________________________________________________________________\n"
     ]
    }
   ],
   "source": [
    "model.summary()"
   ]
  },
  {
   "cell_type": "code",
   "execution_count": 24,
   "metadata": {},
   "outputs": [
    {
     "name": "stdout",
     "output_type": "stream",
     "text": [
      "Epoch 1/10\n",
      "1875/1875 [==============================] - 5s 3ms/step - loss: 0.0380 - accuracy: 0.9879 - val_loss: 0.0761 - val_accuracy: 0.9811\n",
      "Epoch 2/10\n",
      "1875/1875 [==============================] - 5s 3ms/step - loss: 0.0289 - accuracy: 0.9912 - val_loss: 0.0933 - val_accuracy: 0.9778\n",
      "Epoch 3/10\n",
      "1875/1875 [==============================] - 5s 3ms/step - loss: 0.0248 - accuracy: 0.9927 - val_loss: 0.1073 - val_accuracy: 0.9786\n",
      "Epoch 4/10\n",
      "1875/1875 [==============================] - 5s 3ms/step - loss: 0.0230 - accuracy: 0.9935 - val_loss: 0.1178 - val_accuracy: 0.9786\n",
      "Epoch 5/10\n",
      "1875/1875 [==============================] - 5s 3ms/step - loss: 0.0193 - accuracy: 0.9941 - val_loss: 0.1572 - val_accuracy: 0.9786\n",
      "Epoch 6/10\n",
      "1875/1875 [==============================] - 5s 3ms/step - loss: 0.0183 - accuracy: 0.9949 - val_loss: 0.1336 - val_accuracy: 0.9795\n",
      "Epoch 7/10\n",
      "1875/1875 [==============================] - 5s 3ms/step - loss: 0.0177 - accuracy: 0.9954 - val_loss: 0.1531 - val_accuracy: 0.9805\n",
      "Epoch 8/10\n",
      "1875/1875 [==============================] - 5s 3ms/step - loss: 0.0145 - accuracy: 0.9962 - val_loss: 0.1695 - val_accuracy: 0.9803\n",
      "Epoch 9/10\n",
      "1875/1875 [==============================] - 5s 3ms/step - loss: 0.0155 - accuracy: 0.9960 - val_loss: 0.1820 - val_accuracy: 0.9788\n",
      "Epoch 10/10\n",
      "1875/1875 [==============================] - 5s 3ms/step - loss: 0.0126 - accuracy: 0.9969 - val_loss: 0.2013 - val_accuracy: 0.9821\n"
     ]
    }
   ],
   "source": [
    "m1 = model.fit(X_train,y_train,validation_data=(X_test,y_test),epochs=10)  ## 1st model"
   ]
  },
  {
   "cell_type": "code",
   "execution_count": 26,
   "metadata": {},
   "outputs": [
    {
     "data": {
      "image/png": "[encoded data removed]",
      "text/plain": [
       "<Figure size 504x216 with 2 Axes>"
      ]
     },
     "metadata": {
      "needs_background": "light"
     },
     "output_type": "display_data"
    }
   ],
   "source": [
    "#Plot the train/test accuracy and train/test loss\n",
    "import seaborn as sns\n",
    "import matplotlib.pyplot as plt\n",
    "import numpy as np\n",
    "\n",
    "plt.figure(figsize=(7,3))\n",
    "\n",
    "plt.subplot(1,2,1)\n",
    "train_acc = m1.history['accuracy'];\n",
    "test_acc = m1.history['val_accuracy'];\n",
    "\n",
    "nepochs = len(train_acc);\n",
    "sns.lineplot(x=np.arange(1,nepochs+1), y=train_acc, label='Training accuracy');\n",
    "sns.lineplot(x=np.arange(1,nepochs+1), y=test_acc, label='Test accuracy');\n",
    "plt.xlabel('Epoch');\n",
    "plt.ylabel('Accuracy');\n",
    "\n",
    "plt.subplot(1,2,2)\n",
    "train_loss = m1.history['loss']\n",
    "test_loss = m1.history['val_loss']\n",
    "sns.lineplot(x=np.arange(1,nepochs+1), y=train_loss, label='Training loss');\n",
    "sns.lineplot(x=np.arange(1,nepochs+1), y=test_loss, label='Test loss');\n",
    "plt.yscale('log')\n",
    "plt.xlabel('Epochs')\n",
    "plt.ylabel('Training loss')\n",
    "plt.tight_layout()"
   ]
  },
  {
   "cell_type": "code",
   "execution_count": 27,
   "metadata": {},
   "outputs": [
    {
     "data": {
      "image/png": "[encoded data removed]",
      "text/plain": [
       "<Figure size 432x288 with 1 Axes>"
      ]
     },
     "metadata": {
      "needs_background": "light"
     },
     "output_type": "display_data"
    }
   ],
   "source": [
    "plt.imshow(X_test[17].reshape(28,28), cmap='binary');"
   ]
  },
  {
   "cell_type": "code",
   "execution_count": 32,
   "metadata": {},
   "outputs": [
    {
     "name": "stdout",
     "output_type": "stream",
     "text": [
      "\n",
      "The number with max probability is\n",
      "7\n"
     ]
    }
   ],
   "source": [
    "# print(model.predict(X_test[[17]]))\n",
    "print()\n",
    "print('The number with max probability is')\n",
    "print(np.argmax(model.predict(X_test[[17]])))"
   ]
  },
  {
   "cell_type": "code",
   "execution_count": 67,
   "metadata": {},
   "outputs": [],
   "source": [
    "model2=Sequential()\n",
    "model2.add(Conv2D(30,kernel_size=(3,3),activation='relu',input_shape=(28,28,1)))\n",
    "model2.add(Conv2D(64,kernel_size=(3,3),activation=\"relu\"))\n",
    "model2.add(Conv2D(15,kernel_size=(3,3),activation='relu'))\n",
    "model2.add(Flatten())\n",
    "model2.add(Dense(10,activation=\"softmax\"))\n"
   ]
  },
  {
   "cell_type": "code",
   "execution_count": 68,
   "metadata": {},
   "outputs": [],
   "source": [
    "model2.compile(optimizer = 'adam',loss='categorical_crossentropy',metrics=[\"accuracy\"])\n"
   ]
  },
  {
   "cell_type": "code",
   "execution_count": 69,
   "metadata": {},
   "outputs": [
    {
     "name": "stdout",
     "output_type": "stream",
     "text": [
      "Model: \"sequential_6\"\n",
      "_________________________________________________________________\n",
      "Layer (type)                 Output Shape              Param #   \n",
      "=================================================================\n",
      "conv2d_15 (Conv2D)           (None, 26, 26, 30)        300       \n",
      "_________________________________________________________________\n",
      "conv2d_16 (Conv2D)           (None, 24, 24, 64)        17344     \n",
      "_________________________________________________________________\n",
      "conv2d_17 (Conv2D)           (None, 22, 22, 15)        8655      \n",
      "_________________________________________________________________\n",
      "flatten_6 (Flatten)          (None, 7260)              0         \n",
      "_________________________________________________________________\n",
      "dense_6 (Dense)              (None, 10)                72610     \n",
      "=================================================================\n",
      "Total params: 98,909\n",
      "Trainable params: 98,909\n",
      "Non-trainable params: 0\n",
      "_________________________________________________________________\n"
     ]
    }
   ],
   "source": [
    "model2.summary()"
   ]
  },
  {
   "cell_type": "code",
   "execution_count": 71,
   "metadata": {},
   "outputs": [
    {
     "name": "stdout",
     "output_type": "stream",
     "text": [
      "Epoch 1/10\n",
      "1875/1875 [==============================] - 7s 4ms/step - loss: 0.0276 - accuracy: 0.9904 - val_loss: 0.0760 - val_accuracy: 0.9830\n",
      "Epoch 2/10\n",
      "1875/1875 [==============================] - 7s 4ms/step - loss: 0.0228 - accuracy: 0.9928 - val_loss: 0.1091 - val_accuracy: 0.9751\n",
      "Epoch 3/10\n",
      "1875/1875 [==============================] - 7s 4ms/step - loss: 0.0225 - accuracy: 0.9930 - val_loss: 0.1011 - val_accuracy: 0.9795\n",
      "Epoch 4/10\n",
      "1875/1875 [==============================] - 7s 4ms/step - loss: 0.0203 - accuracy: 0.9938 - val_loss: 0.1065 - val_accuracy: 0.9786\n",
      "Epoch 5/10\n",
      "1875/1875 [==============================] - 7s 4ms/step - loss: 0.0163 - accuracy: 0.9953 - val_loss: 0.1131 - val_accuracy: 0.9794\n",
      "Epoch 6/10\n",
      "1875/1875 [==============================] - 7s 4ms/step - loss: 0.0187 - accuracy: 0.9948 - val_loss: 0.1107 - val_accuracy: 0.9802\n",
      "Epoch 7/10\n",
      "1875/1875 [==============================] - 7s 4ms/step - loss: 0.0154 - accuracy: 0.9955 - val_loss: 0.1233 - val_accuracy: 0.9803\n",
      "Epoch 8/10\n",
      "1875/1875 [==============================] - 7s 4ms/step - loss: 0.0153 - accuracy: 0.9956 - val_loss: 0.1524 - val_accuracy: 0.9796\n",
      "Epoch 9/10\n",
      "1875/1875 [==============================] - 7s 4ms/step - loss: 0.0150 - accuracy: 0.9961 - val_loss: 0.1395 - val_accuracy: 0.9797\n",
      "Epoch 10/10\n",
      "1875/1875 [==============================] - 7s 4ms/step - loss: 0.0121 - accuracy: 0.9968 - val_loss: 0.1610 - val_accuracy: 0.9816\n"
     ]
    }
   ],
   "source": [
    "m2 = model2.fit(X_train,y_train,validation_data=(X_test,y_test),epochs=10)  ## 2nd model"
   ]
  },
  {
   "cell_type": "code",
   "execution_count": 72,
   "metadata": {},
   "outputs": [
    {
     "data": {
      "image/png": "[encoded data removed]",
      "text/plain": [
       "<Figure size 504x216 with 2 Axes>"
      ]
     },
     "metadata": {
      "needs_background": "light"
     },
     "output_type": "display_data"
    }
   ],
   "source": [
    "#Plot the train/test accuracy and train/test loss\n",
    "import seaborn as sns\n",
    "import matplotlib.pyplot as plt\n",
    "import numpy as np\n",
    "\n",
    "plt.figure(figsize=(7,3))\n",
    "\n",
    "plt.subplot(1,2,1)\n",
    "train_acc = m2.history['accuracy'];\n",
    "test_acc = m2.history['val_accuracy'];\n",
    "\n",
    "nepochs = len(train_acc);\n",
    "sns.lineplot(x=np.arange(1,nepochs+1), y=train_acc, label='Training accuracy');\n",
    "sns.lineplot(x=np.arange(1,nepochs+1), y=test_acc, label='Test accuracy');\n",
    "plt.xlabel('Epoch');\n",
    "plt.ylabel('Accuracy');\n",
    "\n",
    "plt.subplot(1,2,2)\n",
    "train_loss = m2.history['loss']\n",
    "test_loss = m2.history['val_loss']\n",
    "sns.lineplot(x=np.arange(1,nepochs+1), y=train_loss, label='Training loss');\n",
    "sns.lineplot(x=np.arange(1,nepochs+1), y=test_loss, label='Test loss');\n",
    "plt.yscale('log')\n",
    "plt.xlabel('Epochs')\n",
    "plt.ylabel('Training loss')\n",
    "plt.tight_layout()"
   ]
  },
  {
   "cell_type": "code",
   "execution_count": null,
   "metadata": {},
   "outputs": [],
   "source": [
    "## thus we tweaked first model and were able to get some slight improvement in accuracy"
   ]
  }
 ],
 "metadata": {
  "kernelspec": {
   "display_name": "Python 3",
   "language": "python",
   "name": "python3"
  }
 },
 "nbformat": 4,
 "nbformat_minor": 4
}
